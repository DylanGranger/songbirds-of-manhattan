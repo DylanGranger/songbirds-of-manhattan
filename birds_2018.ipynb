{
 "cells": [
  {
   "attachments": {},
   "cell_type": "markdown",
   "metadata": {},
   "source": [
    "### Set up workspace"
   ]
  },
  {
   "cell_type": "code",
   "execution_count": 2,
   "metadata": {
    "scrolled": true
   },
   "outputs": [],
   "source": [
    "import arcpy\n",
    "arcpy.env.workspace = r\"\\\\Mac\\Home\\Documents\\Bird Project\\birds_2018\\birds_2018.gdb\""
   ]
  },
  {
   "attachments": {},
   "cell_type": "markdown",
   "metadata": {},
   "source": [
    "### Add songbird_count_2018.csv to project"
   ]
  },
  {
   "attachments": {},
   "cell_type": "markdown",
   "metadata": {},
   "source": [
    "### Use XY Table to Point to convert songbird data to points"
   ]
  },
  {
   "cell_type": "code",
   "execution_count": 3,
   "metadata": {},
   "outputs": [
    {
     "data": {
      "text/html": [
       "<div class='gpresult'><h2>Messages</h2><div id='messages' data-messages='[\"Start Time: Sunday, December 3, 2023 11:58:26 AM\",\"Succeeded at Sunday, December 3, 2023 11:58:45 AM (Elapsed Time: 18.88 seconds)\"]' data-show='true'><div id = 'default' /></div></div>"
      ],
      "text/plain": [
       "<Result '\\\\\\\\Mac\\\\Home\\\\Documents\\\\Bird Project\\\\birds_2018\\\\birds_2018.gdb\\\\songbird_count_2018_XYTableToPoint'>"
      ]
     },
     "execution_count": 3,
     "metadata": {},
     "output_type": "execute_result"
    }
   ],
   "source": [
    "arcpy.management.XYTableToPoint(\"songbird_count_2018.csv\", \n",
    "                                r\"\\\\Mac\\Home\\Documents\\Bird Project\\birds_2018\\birds_2018.gdb\\songbirds_2018\", \n",
    "                                \"LONGITUDE\", \n",
    "                                \"LATITUDE\", \n",
    "                                None, \n",
    "                                'GEOGCS[\"GCS_WGS_1984\",DATUM[\"D_WGS_1984\",SPHEROID[\"WGS_1984\",6378137.0,298.257223563]],PRIMEM[\"Greenwich\",0.0],UNIT[\"Degree\",0.0174532925199433]];-400 -400 1000000000;-100000 10000;-100000 10000;8.98315284119521E-09;0.001;0.001;IsHighPrecision')"
   ]
  },
  {
   "attachments": {},
   "cell_type": "markdown",
   "metadata": {},
   "source": [
    "### change map projection to NAD State Plane 1983 New York (2263)"
   ]
  },
  {
   "attachments": {},
   "cell_type": "markdown",
   "metadata": {},
   "source": [
    "### Export each SPECIES_GROUP as a separate feature layer"
   ]
  },
  {
   "cell_type": "code",
   "execution_count": 4,
   "metadata": {},
   "outputs": [
    {
     "data": {
      "text/html": [
       "<div class='gpresult'><h2>Messages</h2><div id='messages' data-messages='[\"Start Time: Sunday, December 3, 2023 12:04:57 PM\",\"Succeeded at Sunday, December 3, 2023 12:04:59 PM (Elapsed Time: 2.38 seconds)\"]' data-show='true'><div id = 'default' /></div></div>"
      ],
      "text/plain": [
       "<Result '\\\\\\\\Mac\\\\Home\\\\Documents\\\\Bird Project\\\\birds_2018\\\\birds_2018.gdb\\\\blackbirds_2018'>"
      ]
     },
     "execution_count": 4,
     "metadata": {},
     "output_type": "execute_result"
    }
   ],
   "source": [
    "arcpy.conversion.ExportFeatures(\"songbirds_2018\", \n",
    "                                r\"\\\\Mac\\Home\\Documents\\Bird Project\\birds_2018\\birds_2018.gdb\\blackbirds_2018\", \n",
    "                                \"SPECIES_GROUP = 'Blackbirds'\", \n",
    "                                \"NOT_USE_ALIAS\", \n",
    "                                'Field1 \"Field1\" true true false 4 Long 0 0,First,#,songbirds_2018,Field1,-1,-1;TAXONOMIC_ORDER \"TAXONOMIC ORDER\" true true false 4 Long 0 0,First,#,songbirds_2018,TAXONOMIC_ORDER,-1,-1;COMMON_NAME \"COMMON NAME\" true true false 8000 Text 0 0,First,#,songbirds_2018,COMMON_NAME,0,8000;SCIENTIFIC_NAME \"SCIENTIFIC NAME\" true true false 8000 Text 0 0,First,#,songbirds_2018,SCIENTIFIC_NAME,0,8000;OBSERVATION_COUNT \"OBSERVATION COUNT\" true true false 8000 Text 0 0,First,#,songbirds_2018,OBSERVATION_COUNT,0,8000;LOCALITY \"LOCALITY\" true true false 8000 Text 0 0,First,#,songbirds_2018,LOCALITY,0,8000;LATITUDE \"LATITUDE\" true true false 8 Double 0 0,First,#,songbirds_2018,LATITUDE,-1,-1;LONGITUDE \"LONGITUDE\" true true false 8 Double 0 0,First,#,songbirds_2018,LONGITUDE,-1,-1;TIME_OBSERVATIONS_STARTED \"TIME OBSERVATIONS STARTED\" true true false 8000 Text 0 0,First,#,songbirds_2018,TIME_OBSERVATIONS_STARTED,0,8000;ALL_SPECIES_REPORTED \"ALL SPECIES REPORTED\" true true false 4 Long 0 0,First,#,songbirds_2018,ALL_SPECIES_REPORTED,-1,-1;TRIP_COMMENTS \"TRIP COMMENTS\" true true false 8000 Text 0 0,First,#,songbirds_2018,TRIP_COMMENTS,0,8000;SPECIES_COMMENTS \"SPECIES COMMENTS\" true true false 8000 Text 0 0,First,#,songbirds_2018,SPECIES_COMMENTS,0,8000;SPECIES_GROUP \"SPECIES_GROUP\" true true false 8000 Text 0 0,First,#,songbirds_2018,SPECIES_GROUP,0,8000;ORDER1 \"ORDER1\" true true false 8000 Text 0 0,First,#,songbirds_2018,ORDER1,0,8000;FAMILY \"FAMILY\" true true false 8000 Text 0 0,First,#,songbirds_2018,FAMILY,0,8000', \n",
    "                                None)"
   ]
  },
  {
   "cell_type": "code",
   "execution_count": 5,
   "metadata": {},
   "outputs": [
    {
     "data": {
      "text/html": [
       "<div class='gpresult'><h2>Messages</h2><div id='messages' data-messages='[\"Start Time: Sunday, December 3, 2023 12:06:21 PM\",\"Succeeded at Sunday, December 3, 2023 12:06:24 PM (Elapsed Time: 2.76 seconds)\"]' data-show='true'><div id = 'default' /></div></div>"
      ],
      "text/plain": [
       "<Result '\\\\\\\\Mac\\\\Home\\\\Documents\\\\Bird Project\\\\birds_2018\\\\birds_2018.gdb\\\\cardinals_grosbeaks_2018'>"
      ]
     },
     "execution_count": 5,
     "metadata": {},
     "output_type": "execute_result"
    }
   ],
   "source": [
    "arcpy.conversion.ExportFeatures(\"songbirds_2018\", \n",
    "                                r\"\\\\Mac\\Home\\Documents\\Bird Project\\birds_2018\\birds_2018.gdb\\cardinals_grosbeaks_2018\", \n",
    "                                \"SPECIES_GROUP = 'Cardinals, Grosbeaks, and Allies'\", \n",
    "                                \"NOT_USE_ALIAS\", \n",
    "                                'Field1 \"Field1\" true true false 4 Long 0 0,First,#,songbirds_2018,Field1,-1,-1;TAXONOMIC_ORDER \"TAXONOMIC ORDER\" true true false 4 Long 0 0,First,#,songbirds_2018,TAXONOMIC_ORDER,-1,-1;COMMON_NAME \"COMMON NAME\" true true false 8000 Text 0 0,First,#,songbirds_2018,COMMON_NAME,0,8000;SCIENTIFIC_NAME \"SCIENTIFIC NAME\" true true false 8000 Text 0 0,First,#,songbirds_2018,SCIENTIFIC_NAME,0,8000;OBSERVATION_COUNT \"OBSERVATION COUNT\" true true false 8000 Text 0 0,First,#,songbirds_2018,OBSERVATION_COUNT,0,8000;LOCALITY \"LOCALITY\" true true false 8000 Text 0 0,First,#,songbirds_2018,LOCALITY,0,8000;LATITUDE \"LATITUDE\" true true false 8 Double 0 0,First,#,songbirds_2018,LATITUDE,-1,-1;LONGITUDE \"LONGITUDE\" true true false 8 Double 0 0,First,#,songbirds_2018,LONGITUDE,-1,-1;TIME_OBSERVATIONS_STARTED \"TIME OBSERVATIONS STARTED\" true true false 8000 Text 0 0,First,#,songbirds_2018,TIME_OBSERVATIONS_STARTED,0,8000;ALL_SPECIES_REPORTED \"ALL SPECIES REPORTED\" true true false 4 Long 0 0,First,#,songbirds_2018,ALL_SPECIES_REPORTED,-1,-1;TRIP_COMMENTS \"TRIP COMMENTS\" true true false 8000 Text 0 0,First,#,songbirds_2018,TRIP_COMMENTS,0,8000;SPECIES_COMMENTS \"SPECIES COMMENTS\" true true false 8000 Text 0 0,First,#,songbirds_2018,SPECIES_COMMENTS,0,8000;SPECIES_GROUP \"SPECIES_GROUP\" true true false 8000 Text 0 0,First,#,songbirds_2018,SPECIES_GROUP,0,8000;ORDER1 \"ORDER1\" true true false 8000 Text 0 0,First,#,songbirds_2018,ORDER1,0,8000;FAMILY \"FAMILY\" true true false 8000 Text 0 0,First,#,songbirds_2018,FAMILY,0,8000', \n",
    "                                None)"
   ]
  },
  {
   "cell_type": "code",
   "execution_count": 6,
   "metadata": {},
   "outputs": [
    {
     "data": {
      "text/html": [
       "<div class='gpresult'><h2>Messages</h2><div id='messages' data-messages='[\"Start Time: Sunday, December 3, 2023 12:07:34 PM\",\"Succeeded at Sunday, December 3, 2023 12:07:36 PM (Elapsed Time: 1.62 seconds)\"]' data-show='true'><div id = 'default' /></div></div>"
      ],
      "text/plain": [
       "<Result '\\\\\\\\Mac\\\\Home\\\\Documents\\\\Bird Project\\\\birds_2018\\\\birds_2018.gdb\\\\catbirds_mockingbirds_thrashers_2018'>"
      ]
     },
     "execution_count": 6,
     "metadata": {},
     "output_type": "execute_result"
    }
   ],
   "source": [
    "arcpy.conversion.ExportFeatures(\"songbirds_2018\", \n",
    "                                r\"\\\\Mac\\Home\\Documents\\Bird Project\\birds_2018\\birds_2018.gdb\\catbirds_mockingbirds_thrashers_2018\", \n",
    "                                \"SPECIES_GROUP = 'Catbirds, Mockingbirds, and Thrashers'\", \n",
    "                                \"NOT_USE_ALIAS\", \n",
    "                                'Field1 \"Field1\" true true false 4 Long 0 0,First,#,songbirds_2018,Field1,-1,-1;TAXONOMIC_ORDER \"TAXONOMIC ORDER\" true true false 4 Long 0 0,First,#,songbirds_2018,TAXONOMIC_ORDER,-1,-1;COMMON_NAME \"COMMON NAME\" true true false 8000 Text 0 0,First,#,songbirds_2018,COMMON_NAME,0,8000;SCIENTIFIC_NAME \"SCIENTIFIC NAME\" true true false 8000 Text 0 0,First,#,songbirds_2018,SCIENTIFIC_NAME,0,8000;OBSERVATION_COUNT \"OBSERVATION COUNT\" true true false 8000 Text 0 0,First,#,songbirds_2018,OBSERVATION_COUNT,0,8000;LOCALITY \"LOCALITY\" true true false 8000 Text 0 0,First,#,songbirds_2018,LOCALITY,0,8000;LATITUDE \"LATITUDE\" true true false 8 Double 0 0,First,#,songbirds_2018,LATITUDE,-1,-1;LONGITUDE \"LONGITUDE\" true true false 8 Double 0 0,First,#,songbirds_2018,LONGITUDE,-1,-1;TIME_OBSERVATIONS_STARTED \"TIME OBSERVATIONS STARTED\" true true false 8000 Text 0 0,First,#,songbirds_2018,TIME_OBSERVATIONS_STARTED,0,8000;ALL_SPECIES_REPORTED \"ALL SPECIES REPORTED\" true true false 4 Long 0 0,First,#,songbirds_2018,ALL_SPECIES_REPORTED,-1,-1;TRIP_COMMENTS \"TRIP COMMENTS\" true true false 8000 Text 0 0,First,#,songbirds_2018,TRIP_COMMENTS,0,8000;SPECIES_COMMENTS \"SPECIES COMMENTS\" true true false 8000 Text 0 0,First,#,songbirds_2018,SPECIES_COMMENTS,0,8000;SPECIES_GROUP \"SPECIES_GROUP\" true true false 8000 Text 0 0,First,#,songbirds_2018,SPECIES_GROUP,0,8000;ORDER1 \"ORDER1\" true true false 8000 Text 0 0,First,#,songbirds_2018,ORDER1,0,8000;FAMILY \"FAMILY\" true true false 8000 Text 0 0,First,#,songbirds_2018,FAMILY,0,8000', \n",
    "                                None)"
   ]
  },
  {
   "cell_type": "code",
   "execution_count": 7,
   "metadata": {},
   "outputs": [
    {
     "data": {
      "text/html": [
       "<div class='gpresult'><h2>Messages</h2><div id='messages' data-messages='[\"Start Time: Sunday, December 3, 2023 12:08:38 PM\",\"Succeeded at Sunday, December 3, 2023 12:08:40 PM (Elapsed Time: 1.62 seconds)\"]' data-show='true'><div id = 'default' /></div></div>"
      ],
      "text/plain": [
       "<Result '\\\\\\\\Mac\\\\Home\\\\Documents\\\\Bird Project\\\\birds_2018\\\\birds_2018.gdb\\\\finches_euphonias_2018'>"
      ]
     },
     "execution_count": 7,
     "metadata": {},
     "output_type": "execute_result"
    }
   ],
   "source": [
    "arcpy.conversion.ExportFeatures(\"songbirds_2018\", \n",
    "                                r\"\\\\Mac\\Home\\Documents\\Bird Project\\birds_2018\\birds_2018.gdb\\finches_euphonias_2018\", \n",
    "                                \"SPECIES_GROUP = 'Finches, Euphonias, and Allies'\", \n",
    "                                \"NOT_USE_ALIAS\", \n",
    "                                'Field1 \"Field1\" true true false 4 Long 0 0,First,#,songbirds_2018,Field1,-1,-1;TAXONOMIC_ORDER \"TAXONOMIC ORDER\" true true false 4 Long 0 0,First,#,songbirds_2018,TAXONOMIC_ORDER,-1,-1;COMMON_NAME \"COMMON NAME\" true true false 8000 Text 0 0,First,#,songbirds_2018,COMMON_NAME,0,8000;SCIENTIFIC_NAME \"SCIENTIFIC NAME\" true true false 8000 Text 0 0,First,#,songbirds_2018,SCIENTIFIC_NAME,0,8000;OBSERVATION_COUNT \"OBSERVATION COUNT\" true true false 8000 Text 0 0,First,#,songbirds_2018,OBSERVATION_COUNT,0,8000;LOCALITY \"LOCALITY\" true true false 8000 Text 0 0,First,#,songbirds_2018,LOCALITY,0,8000;LATITUDE \"LATITUDE\" true true false 8 Double 0 0,First,#,songbirds_2018,LATITUDE,-1,-1;LONGITUDE \"LONGITUDE\" true true false 8 Double 0 0,First,#,songbirds_2018,LONGITUDE,-1,-1;TIME_OBSERVATIONS_STARTED \"TIME OBSERVATIONS STARTED\" true true false 8000 Text 0 0,First,#,songbirds_2018,TIME_OBSERVATIONS_STARTED,0,8000;ALL_SPECIES_REPORTED \"ALL SPECIES REPORTED\" true true false 4 Long 0 0,First,#,songbirds_2018,ALL_SPECIES_REPORTED,-1,-1;TRIP_COMMENTS \"TRIP COMMENTS\" true true false 8000 Text 0 0,First,#,songbirds_2018,TRIP_COMMENTS,0,8000;SPECIES_COMMENTS \"SPECIES COMMENTS\" true true false 8000 Text 0 0,First,#,songbirds_2018,SPECIES_COMMENTS,0,8000;SPECIES_GROUP \"SPECIES_GROUP\" true true false 8000 Text 0 0,First,#,songbirds_2018,SPECIES_GROUP,0,8000;ORDER1 \"ORDER1\" true true false 8000 Text 0 0,First,#,songbirds_2018,ORDER1,0,8000;FAMILY \"FAMILY\" true true false 8000 Text 0 0,First,#,songbirds_2018,FAMILY,0,8000', \n",
    "                                None)"
   ]
  },
  {
   "cell_type": "code",
   "execution_count": 8,
   "metadata": {},
   "outputs": [
    {
     "data": {
      "text/html": [
       "<div class='gpresult'><h2>Messages</h2><div id='messages' data-messages='[\"Start Time: Sunday, December 3, 2023 12:09:25 PM\",\"Succeeded at Sunday, December 3, 2023 12:09:26 PM (Elapsed Time: 1.34 seconds)\"]' data-show='true'><div id = 'default' /></div></div>"
      ],
      "text/plain": [
       "<Result '\\\\\\\\Mac\\\\Home\\\\Documents\\\\Bird Project\\\\birds_2018\\\\birds_2018.gdb\\\\gnatcatchers_2018'>"
      ]
     },
     "execution_count": 8,
     "metadata": {},
     "output_type": "execute_result"
    }
   ],
   "source": [
    "arcpy.conversion.ExportFeatures(\"songbirds_2018\", \n",
    "                                r\"\\\\Mac\\Home\\Documents\\Bird Project\\birds_2018\\birds_2018.gdb\\gnatcatchers_2018\", \n",
    "                                \"SPECIES_GROUP = 'Gnatcatchers'\", \n",
    "                                \"NOT_USE_ALIAS\", \n",
    "                                'Field1 \"Field1\" true true false 4 Long 0 0,First,#,songbirds_2018,Field1,-1,-1;TAXONOMIC_ORDER \"TAXONOMIC ORDER\" true true false 4 Long 0 0,First,#,songbirds_2018,TAXONOMIC_ORDER,-1,-1;COMMON_NAME \"COMMON NAME\" true true false 8000 Text 0 0,First,#,songbirds_2018,COMMON_NAME,0,8000;SCIENTIFIC_NAME \"SCIENTIFIC NAME\" true true false 8000 Text 0 0,First,#,songbirds_2018,SCIENTIFIC_NAME,0,8000;OBSERVATION_COUNT \"OBSERVATION COUNT\" true true false 8000 Text 0 0,First,#,songbirds_2018,OBSERVATION_COUNT,0,8000;LOCALITY \"LOCALITY\" true true false 8000 Text 0 0,First,#,songbirds_2018,LOCALITY,0,8000;LATITUDE \"LATITUDE\" true true false 8 Double 0 0,First,#,songbirds_2018,LATITUDE,-1,-1;LONGITUDE \"LONGITUDE\" true true false 8 Double 0 0,First,#,songbirds_2018,LONGITUDE,-1,-1;TIME_OBSERVATIONS_STARTED \"TIME OBSERVATIONS STARTED\" true true false 8000 Text 0 0,First,#,songbirds_2018,TIME_OBSERVATIONS_STARTED,0,8000;ALL_SPECIES_REPORTED \"ALL SPECIES REPORTED\" true true false 4 Long 0 0,First,#,songbirds_2018,ALL_SPECIES_REPORTED,-1,-1;TRIP_COMMENTS \"TRIP COMMENTS\" true true false 8000 Text 0 0,First,#,songbirds_2018,TRIP_COMMENTS,0,8000;SPECIES_COMMENTS \"SPECIES COMMENTS\" true true false 8000 Text 0 0,First,#,songbirds_2018,SPECIES_COMMENTS,0,8000;SPECIES_GROUP \"SPECIES_GROUP\" true true false 8000 Text 0 0,First,#,songbirds_2018,SPECIES_GROUP,0,8000;ORDER1 \"ORDER1\" true true false 8000 Text 0 0,First,#,songbirds_2018,ORDER1,0,8000;FAMILY \"FAMILY\" true true false 8000 Text 0 0,First,#,songbirds_2018,FAMILY,0,8000', \n",
    "                                None)"
   ]
  },
  {
   "cell_type": "code",
   "execution_count": 9,
   "metadata": {},
   "outputs": [
    {
     "data": {
      "text/html": [
       "<div class='gpresult'><h2>Messages</h2><div id='messages' data-messages='[\"Start Time: Sunday, December 3, 2023 12:10:13 PM\",\"Succeeded at Sunday, December 3, 2023 12:10:15 PM (Elapsed Time: 1.66 seconds)\"]' data-show='true'><div id = 'default' /></div></div>"
      ],
      "text/plain": [
       "<Result '\\\\\\\\Mac\\\\Home\\\\Documents\\\\Bird Project\\\\birds_2018\\\\birds_2018.gdb\\\\jays_magpies_crows_ravens_2018'>"
      ]
     },
     "execution_count": 9,
     "metadata": {},
     "output_type": "execute_result"
    }
   ],
   "source": [
    "arcpy.conversion.ExportFeatures(\"songbirds_2018\", \n",
    "                                r\"\\\\Mac\\Home\\Documents\\Bird Project\\birds_2018\\birds_2018.gdb\\jays_magpies_crows_ravens_2018\", \n",
    "                                \"SPECIES_GROUP = 'Jays, Magpies, Crows, and Ravens'\", \n",
    "                                \"NOT_USE_ALIAS\", \n",
    "                                'Field1 \"Field1\" true true false 4 Long 0 0,First,#,songbirds_2018,Field1,-1,-1;TAXONOMIC_ORDER \"TAXONOMIC ORDER\" true true false 4 Long 0 0,First,#,songbirds_2018,TAXONOMIC_ORDER,-1,-1;COMMON_NAME \"COMMON NAME\" true true false 8000 Text 0 0,First,#,songbirds_2018,COMMON_NAME,0,8000;SCIENTIFIC_NAME \"SCIENTIFIC NAME\" true true false 8000 Text 0 0,First,#,songbirds_2018,SCIENTIFIC_NAME,0,8000;OBSERVATION_COUNT \"OBSERVATION COUNT\" true true false 8000 Text 0 0,First,#,songbirds_2018,OBSERVATION_COUNT,0,8000;LOCALITY \"LOCALITY\" true true false 8000 Text 0 0,First,#,songbirds_2018,LOCALITY,0,8000;LATITUDE \"LATITUDE\" true true false 8 Double 0 0,First,#,songbirds_2018,LATITUDE,-1,-1;LONGITUDE \"LONGITUDE\" true true false 8 Double 0 0,First,#,songbirds_2018,LONGITUDE,-1,-1;TIME_OBSERVATIONS_STARTED \"TIME OBSERVATIONS STARTED\" true true false 8000 Text 0 0,First,#,songbirds_2018,TIME_OBSERVATIONS_STARTED,0,8000;ALL_SPECIES_REPORTED \"ALL SPECIES REPORTED\" true true false 4 Long 0 0,First,#,songbirds_2018,ALL_SPECIES_REPORTED,-1,-1;TRIP_COMMENTS \"TRIP COMMENTS\" true true false 8000 Text 0 0,First,#,songbirds_2018,TRIP_COMMENTS,0,8000;SPECIES_COMMENTS \"SPECIES COMMENTS\" true true false 8000 Text 0 0,First,#,songbirds_2018,SPECIES_COMMENTS,0,8000;SPECIES_GROUP \"SPECIES_GROUP\" true true false 8000 Text 0 0,First,#,songbirds_2018,SPECIES_GROUP,0,8000;ORDER1 \"ORDER1\" true true false 8000 Text 0 0,First,#,songbirds_2018,ORDER1,0,8000;FAMILY \"FAMILY\" true true false 8000 Text 0 0,First,#,songbirds_2018,FAMILY,0,8000', \n",
    "                                None)"
   ]
  },
  {
   "cell_type": "code",
   "execution_count": 10,
   "metadata": {},
   "outputs": [
    {
     "data": {
      "text/html": [
       "<div class='gpresult'><h2>Messages</h2><div id='messages' data-messages='[\"Start Time: Sunday, December 3, 2023 12:11:05 PM\",\"Succeeded at Sunday, December 3, 2023 12:11:07 PM (Elapsed Time: 1.37 seconds)\"]' data-show='true'><div id = 'default' /></div></div>"
      ],
      "text/plain": [
       "<Result '\\\\\\\\Mac\\\\Home\\\\Documents\\\\Bird Project\\\\birds_2018\\\\birds_2018.gdb\\\\kinglets_2018'>"
      ]
     },
     "execution_count": 10,
     "metadata": {},
     "output_type": "execute_result"
    }
   ],
   "source": [
    "arcpy.conversion.ExportFeatures(\"songbirds_2018\", \n",
    "                                r\"\\\\Mac\\Home\\Documents\\Bird Project\\birds_2018\\birds_2018.gdb\\kinglets_2018\", \n",
    "                                \"SPECIES_GROUP = 'Kinglets'\", \n",
    "                                \"NOT_USE_ALIAS\", \n",
    "                                'Field1 \"Field1\" true true false 4 Long 0 0,First,#,songbirds_2018,Field1,-1,-1;TAXONOMIC_ORDER \"TAXONOMIC ORDER\" true true false 4 Long 0 0,First,#,songbirds_2018,TAXONOMIC_ORDER,-1,-1;COMMON_NAME \"COMMON NAME\" true true false 8000 Text 0 0,First,#,songbirds_2018,COMMON_NAME,0,8000;SCIENTIFIC_NAME \"SCIENTIFIC NAME\" true true false 8000 Text 0 0,First,#,songbirds_2018,SCIENTIFIC_NAME,0,8000;OBSERVATION_COUNT \"OBSERVATION COUNT\" true true false 8000 Text 0 0,First,#,songbirds_2018,OBSERVATION_COUNT,0,8000;LOCALITY \"LOCALITY\" true true false 8000 Text 0 0,First,#,songbirds_2018,LOCALITY,0,8000;LATITUDE \"LATITUDE\" true true false 8 Double 0 0,First,#,songbirds_2018,LATITUDE,-1,-1;LONGITUDE \"LONGITUDE\" true true false 8 Double 0 0,First,#,songbirds_2018,LONGITUDE,-1,-1;TIME_OBSERVATIONS_STARTED \"TIME OBSERVATIONS STARTED\" true true false 8000 Text 0 0,First,#,songbirds_2018,TIME_OBSERVATIONS_STARTED,0,8000;ALL_SPECIES_REPORTED \"ALL SPECIES REPORTED\" true true false 4 Long 0 0,First,#,songbirds_2018,ALL_SPECIES_REPORTED,-1,-1;TRIP_COMMENTS \"TRIP COMMENTS\" true true false 8000 Text 0 0,First,#,songbirds_2018,TRIP_COMMENTS,0,8000;SPECIES_COMMENTS \"SPECIES COMMENTS\" true true false 8000 Text 0 0,First,#,songbirds_2018,SPECIES_COMMENTS,0,8000;SPECIES_GROUP \"SPECIES_GROUP\" true true false 8000 Text 0 0,First,#,songbirds_2018,SPECIES_GROUP,0,8000;ORDER1 \"ORDER1\" true true false 8000 Text 0 0,First,#,songbirds_2018,ORDER1,0,8000;FAMILY \"FAMILY\" true true false 8000 Text 0 0,First,#,songbirds_2018,FAMILY,0,8000', \n",
    "                                None)"
   ]
  },
  {
   "cell_type": "code",
   "execution_count": 11,
   "metadata": {},
   "outputs": [
    {
     "data": {
      "text/html": [
       "<div class='gpresult'><h2>Messages</h2><div id='messages' data-messages='[\"Start Time: Sunday, December 3, 2023 12:11:53 PM\",\"Succeeded at Sunday, December 3, 2023 12:11:55 PM (Elapsed Time: 2.16 seconds)\"]' data-show='true'><div id = 'default' /></div></div>"
      ],
      "text/plain": [
       "<Result '\\\\\\\\Mac\\\\Home\\\\Documents\\\\Bird Project\\\\birds_2018\\\\birds_2018.gdb\\\\martins_swallows_2018'>"
      ]
     },
     "execution_count": 11,
     "metadata": {},
     "output_type": "execute_result"
    }
   ],
   "source": [
    "arcpy.conversion.ExportFeatures(\"songbirds_2018\", \n",
    "                                r\"\\\\Mac\\Home\\Documents\\Bird Project\\birds_2018\\birds_2018.gdb\\martins_swallows_2018\", \n",
    "                                \"SPECIES_GROUP = 'Martins and Swallows'\", \n",
    "                                \"NOT_USE_ALIAS\", \n",
    "                                'Field1 \"Field1\" true true false 4 Long 0 0,First,#,songbirds_2018,Field1,-1,-1;TAXONOMIC_ORDER \"TAXONOMIC ORDER\" true true false 4 Long 0 0,First,#,songbirds_2018,TAXONOMIC_ORDER,-1,-1;COMMON_NAME \"COMMON NAME\" true true false 8000 Text 0 0,First,#,songbirds_2018,COMMON_NAME,0,8000;SCIENTIFIC_NAME \"SCIENTIFIC NAME\" true true false 8000 Text 0 0,First,#,songbirds_2018,SCIENTIFIC_NAME,0,8000;OBSERVATION_COUNT \"OBSERVATION COUNT\" true true false 8000 Text 0 0,First,#,songbirds_2018,OBSERVATION_COUNT,0,8000;LOCALITY \"LOCALITY\" true true false 8000 Text 0 0,First,#,songbirds_2018,LOCALITY,0,8000;LATITUDE \"LATITUDE\" true true false 8 Double 0 0,First,#,songbirds_2018,LATITUDE,-1,-1;LONGITUDE \"LONGITUDE\" true true false 8 Double 0 0,First,#,songbirds_2018,LONGITUDE,-1,-1;TIME_OBSERVATIONS_STARTED \"TIME OBSERVATIONS STARTED\" true true false 8000 Text 0 0,First,#,songbirds_2018,TIME_OBSERVATIONS_STARTED,0,8000;ALL_SPECIES_REPORTED \"ALL SPECIES REPORTED\" true true false 4 Long 0 0,First,#,songbirds_2018,ALL_SPECIES_REPORTED,-1,-1;TRIP_COMMENTS \"TRIP COMMENTS\" true true false 8000 Text 0 0,First,#,songbirds_2018,TRIP_COMMENTS,0,8000;SPECIES_COMMENTS \"SPECIES COMMENTS\" true true false 8000 Text 0 0,First,#,songbirds_2018,SPECIES_COMMENTS,0,8000;SPECIES_GROUP \"SPECIES_GROUP\" true true false 8000 Text 0 0,First,#,songbirds_2018,SPECIES_GROUP,0,8000;ORDER1 \"ORDER1\" true true false 8000 Text 0 0,First,#,songbirds_2018,ORDER1,0,8000;FAMILY \"FAMILY\" true true false 8000 Text 0 0,First,#,songbirds_2018,FAMILY,0,8000', \n",
    "                                None)"
   ]
  },
  {
   "cell_type": "code",
   "execution_count": 12,
   "metadata": {},
   "outputs": [
    {
     "data": {
      "text/html": [
       "<div class='gpresult'><h2>Messages</h2><div id='messages' data-messages='[\"Start Time: Sunday, December 3, 2023 12:12:55 PM\",\"Succeeded at Sunday, December 3, 2023 12:12:58 PM (Elapsed Time: 2.40 seconds)\"]' data-show='true'><div id = 'default' /></div></div>"
      ],
      "text/plain": [
       "<Result '\\\\\\\\Mac\\\\Home\\\\Documents\\\\Bird Project\\\\birds_2018\\\\birds_2018.gdb\\\\new_world_sparrows_2018'>"
      ]
     },
     "execution_count": 12,
     "metadata": {},
     "output_type": "execute_result"
    }
   ],
   "source": [
    "arcpy.conversion.ExportFeatures(\"songbirds_2018\", \n",
    "                                r\"\\\\Mac\\Home\\Documents\\Bird Project\\birds_2018\\birds_2018.gdb\\new_world_sparrows_2018\", \n",
    "                                \"SPECIES_GROUP = 'New World Sparrows'\", \n",
    "                                \"NOT_USE_ALIAS\", \n",
    "                                'Field1 \"Field1\" true true false 4 Long 0 0,First,#,songbirds_2018,Field1,-1,-1;TAXONOMIC_ORDER \"TAXONOMIC ORDER\" true true false 4 Long 0 0,First,#,songbirds_2018,TAXONOMIC_ORDER,-1,-1;COMMON_NAME \"COMMON NAME\" true true false 8000 Text 0 0,First,#,songbirds_2018,COMMON_NAME,0,8000;SCIENTIFIC_NAME \"SCIENTIFIC NAME\" true true false 8000 Text 0 0,First,#,songbirds_2018,SCIENTIFIC_NAME,0,8000;OBSERVATION_COUNT \"OBSERVATION COUNT\" true true false 8000 Text 0 0,First,#,songbirds_2018,OBSERVATION_COUNT,0,8000;LOCALITY \"LOCALITY\" true true false 8000 Text 0 0,First,#,songbirds_2018,LOCALITY,0,8000;LATITUDE \"LATITUDE\" true true false 8 Double 0 0,First,#,songbirds_2018,LATITUDE,-1,-1;LONGITUDE \"LONGITUDE\" true true false 8 Double 0 0,First,#,songbirds_2018,LONGITUDE,-1,-1;TIME_OBSERVATIONS_STARTED \"TIME OBSERVATIONS STARTED\" true true false 8000 Text 0 0,First,#,songbirds_2018,TIME_OBSERVATIONS_STARTED,0,8000;ALL_SPECIES_REPORTED \"ALL SPECIES REPORTED\" true true false 4 Long 0 0,First,#,songbirds_2018,ALL_SPECIES_REPORTED,-1,-1;TRIP_COMMENTS \"TRIP COMMENTS\" true true false 8000 Text 0 0,First,#,songbirds_2018,TRIP_COMMENTS,0,8000;SPECIES_COMMENTS \"SPECIES COMMENTS\" true true false 8000 Text 0 0,First,#,songbirds_2018,SPECIES_COMMENTS,0,8000;SPECIES_GROUP \"SPECIES_GROUP\" true true false 8000 Text 0 0,First,#,songbirds_2018,SPECIES_GROUP,0,8000;ORDER1 \"ORDER1\" true true false 8000 Text 0 0,First,#,songbirds_2018,ORDER1,0,8000;FAMILY \"FAMILY\" true true false 8000 Text 0 0,First,#,songbirds_2018,FAMILY,0,8000', \n",
    "                                None)"
   ]
  },
  {
   "cell_type": "code",
   "execution_count": 13,
   "metadata": {},
   "outputs": [
    {
     "data": {
      "text/html": [
       "<div class='gpresult'><h2>Messages</h2><div id='messages' data-messages='[\"Start Time: Sunday, December 3, 2023 12:13:37 PM\",\"Succeeded at Sunday, December 3, 2023 12:13:39 PM (Elapsed Time: 1.49 seconds)\"]' data-show='true'><div id = 'default' /></div></div>"
      ],
      "text/plain": [
       "<Result '\\\\\\\\Mac\\\\Home\\\\Documents\\\\Bird Project\\\\birds_2018\\\\birds_2018.gdb\\\\nuthatches_2018'>"
      ]
     },
     "execution_count": 13,
     "metadata": {},
     "output_type": "execute_result"
    }
   ],
   "source": [
    "arcpy.conversion.ExportFeatures(\"songbirds_2018\", \n",
    "                                r\"\\\\Mac\\Home\\Documents\\Bird Project\\birds_2018\\birds_2018.gdb\\nuthatches_2018\", \n",
    "                                \"SPECIES_GROUP = 'Nuthatches'\", \n",
    "                                \"NOT_USE_ALIAS\", \n",
    "                                'Field1 \"Field1\" true true false 4 Long 0 0,First,#,songbirds_2018,Field1,-1,-1;TAXONOMIC_ORDER \"TAXONOMIC ORDER\" true true false 4 Long 0 0,First,#,songbirds_2018,TAXONOMIC_ORDER,-1,-1;COMMON_NAME \"COMMON NAME\" true true false 8000 Text 0 0,First,#,songbirds_2018,COMMON_NAME,0,8000;SCIENTIFIC_NAME \"SCIENTIFIC NAME\" true true false 8000 Text 0 0,First,#,songbirds_2018,SCIENTIFIC_NAME,0,8000;OBSERVATION_COUNT \"OBSERVATION COUNT\" true true false 8000 Text 0 0,First,#,songbirds_2018,OBSERVATION_COUNT,0,8000;LOCALITY \"LOCALITY\" true true false 8000 Text 0 0,First,#,songbirds_2018,LOCALITY,0,8000;LATITUDE \"LATITUDE\" true true false 8 Double 0 0,First,#,songbirds_2018,LATITUDE,-1,-1;LONGITUDE \"LONGITUDE\" true true false 8 Double 0 0,First,#,songbirds_2018,LONGITUDE,-1,-1;TIME_OBSERVATIONS_STARTED \"TIME OBSERVATIONS STARTED\" true true false 8000 Text 0 0,First,#,songbirds_2018,TIME_OBSERVATIONS_STARTED,0,8000;ALL_SPECIES_REPORTED \"ALL SPECIES REPORTED\" true true false 4 Long 0 0,First,#,songbirds_2018,ALL_SPECIES_REPORTED,-1,-1;TRIP_COMMENTS \"TRIP COMMENTS\" true true false 8000 Text 0 0,First,#,songbirds_2018,TRIP_COMMENTS,0,8000;SPECIES_COMMENTS \"SPECIES COMMENTS\" true true false 8000 Text 0 0,First,#,songbirds_2018,SPECIES_COMMENTS,0,8000;SPECIES_GROUP \"SPECIES_GROUP\" true true false 8000 Text 0 0,First,#,songbirds_2018,SPECIES_GROUP,0,8000;ORDER1 \"ORDER1\" true true false 8000 Text 0 0,First,#,songbirds_2018,ORDER1,0,8000;FAMILY \"FAMILY\" true true false 8000 Text 0 0,First,#,songbirds_2018,FAMILY,0,8000', \n",
    "                                None)"
   ]
  },
  {
   "cell_type": "code",
   "execution_count": 14,
   "metadata": {},
   "outputs": [
    {
     "data": {
      "text/html": [
       "<div class='gpresult'><h2>Messages</h2><div id='messages' data-messages='[\"Start Time: Sunday, December 3, 2023 12:14:18 PM\",\"Succeeded at Sunday, December 3, 2023 12:14:20 PM (Elapsed Time: 1.68 seconds)\"]' data-show='true'><div id = 'default' /></div></div>"
      ],
      "text/plain": [
       "<Result '\\\\\\\\Mac\\\\Home\\\\Documents\\\\Bird Project\\\\birds_2018\\\\birds_2018.gdb\\\\old_world_sparrows_2018'>"
      ]
     },
     "execution_count": 14,
     "metadata": {},
     "output_type": "execute_result"
    }
   ],
   "source": [
    "arcpy.conversion.ExportFeatures(\"songbirds_2018\", \n",
    "                                r\"\\\\Mac\\Home\\Documents\\Bird Project\\birds_2018\\birds_2018.gdb\\old_world_sparrows_2018\", \n",
    "                                \"SPECIES_GROUP = 'Old World Sparrows'\", \n",
    "                                \"NOT_USE_ALIAS\", \n",
    "                                'Field1 \"Field1\" true true false 4 Long 0 0,First,#,songbirds_2018,Field1,-1,-1;TAXONOMIC_ORDER \"TAXONOMIC ORDER\" true true false 4 Long 0 0,First,#,songbirds_2018,TAXONOMIC_ORDER,-1,-1;COMMON_NAME \"COMMON NAME\" true true false 8000 Text 0 0,First,#,songbirds_2018,COMMON_NAME,0,8000;SCIENTIFIC_NAME \"SCIENTIFIC NAME\" true true false 8000 Text 0 0,First,#,songbirds_2018,SCIENTIFIC_NAME,0,8000;OBSERVATION_COUNT \"OBSERVATION COUNT\" true true false 8000 Text 0 0,First,#,songbirds_2018,OBSERVATION_COUNT,0,8000;LOCALITY \"LOCALITY\" true true false 8000 Text 0 0,First,#,songbirds_2018,LOCALITY,0,8000;LATITUDE \"LATITUDE\" true true false 8 Double 0 0,First,#,songbirds_2018,LATITUDE,-1,-1;LONGITUDE \"LONGITUDE\" true true false 8 Double 0 0,First,#,songbirds_2018,LONGITUDE,-1,-1;TIME_OBSERVATIONS_STARTED \"TIME OBSERVATIONS STARTED\" true true false 8000 Text 0 0,First,#,songbirds_2018,TIME_OBSERVATIONS_STARTED,0,8000;ALL_SPECIES_REPORTED \"ALL SPECIES REPORTED\" true true false 4 Long 0 0,First,#,songbirds_2018,ALL_SPECIES_REPORTED,-1,-1;TRIP_COMMENTS \"TRIP COMMENTS\" true true false 8000 Text 0 0,First,#,songbirds_2018,TRIP_COMMENTS,0,8000;SPECIES_COMMENTS \"SPECIES COMMENTS\" true true false 8000 Text 0 0,First,#,songbirds_2018,SPECIES_COMMENTS,0,8000;SPECIES_GROUP \"SPECIES_GROUP\" true true false 8000 Text 0 0,First,#,songbirds_2018,SPECIES_GROUP,0,8000;ORDER1 \"ORDER1\" true true false 8000 Text 0 0,First,#,songbirds_2018,ORDER1,0,8000;FAMILY \"FAMILY\" true true false 8000 Text 0 0,First,#,songbirds_2018,FAMILY,0,8000', \n",
    "                                None)"
   ]
  },
  {
   "cell_type": "code",
   "execution_count": 15,
   "metadata": {},
   "outputs": [
    {
     "data": {
      "text/html": [
       "<div class='gpresult'><h2>Messages</h2><div id='messages' data-messages='[\"Start Time: Sunday, December 3, 2023 12:15:15 PM\",\"Succeeded at Sunday, December 3, 2023 12:15:17 PM (Elapsed Time: 2.00 seconds)\"]' data-show='true'><div id = 'default' /></div></div>"
      ],
      "text/plain": [
       "<Result '\\\\\\\\Mac\\\\Home\\\\Documents\\\\Bird Project\\\\birds_2018\\\\birds_2018.gdb\\\\starlings_mynas_2018'>"
      ]
     },
     "execution_count": 15,
     "metadata": {},
     "output_type": "execute_result"
    }
   ],
   "source": [
    "arcpy.conversion.ExportFeatures(\"songbirds_2018\", \n",
    "                                r\"\\\\Mac\\Home\\Documents\\Bird Project\\birds_2018\\birds_2018.gdb\\starlings_mynas_2018\", \n",
    "                                \"SPECIES_GROUP = 'Starlings and Mynas'\", \n",
    "                                \"NOT_USE_ALIAS\", \n",
    "                                'Field1 \"Field1\" true true false 4 Long 0 0,First,#,songbirds_2018,Field1,-1,-1;TAXONOMIC_ORDER \"TAXONOMIC ORDER\" true true false 4 Long 0 0,First,#,songbirds_2018,TAXONOMIC_ORDER,-1,-1;COMMON_NAME \"COMMON NAME\" true true false 8000 Text 0 0,First,#,songbirds_2018,COMMON_NAME,0,8000;SCIENTIFIC_NAME \"SCIENTIFIC NAME\" true true false 8000 Text 0 0,First,#,songbirds_2018,SCIENTIFIC_NAME,0,8000;OBSERVATION_COUNT \"OBSERVATION COUNT\" true true false 8000 Text 0 0,First,#,songbirds_2018,OBSERVATION_COUNT,0,8000;LOCALITY \"LOCALITY\" true true false 8000 Text 0 0,First,#,songbirds_2018,LOCALITY,0,8000;LATITUDE \"LATITUDE\" true true false 8 Double 0 0,First,#,songbirds_2018,LATITUDE,-1,-1;LONGITUDE \"LONGITUDE\" true true false 8 Double 0 0,First,#,songbirds_2018,LONGITUDE,-1,-1;TIME_OBSERVATIONS_STARTED \"TIME OBSERVATIONS STARTED\" true true false 8000 Text 0 0,First,#,songbirds_2018,TIME_OBSERVATIONS_STARTED,0,8000;ALL_SPECIES_REPORTED \"ALL SPECIES REPORTED\" true true false 4 Long 0 0,First,#,songbirds_2018,ALL_SPECIES_REPORTED,-1,-1;TRIP_COMMENTS \"TRIP COMMENTS\" true true false 8000 Text 0 0,First,#,songbirds_2018,TRIP_COMMENTS,0,8000;SPECIES_COMMENTS \"SPECIES COMMENTS\" true true false 8000 Text 0 0,First,#,songbirds_2018,SPECIES_COMMENTS,0,8000;SPECIES_GROUP \"SPECIES_GROUP\" true true false 8000 Text 0 0,First,#,songbirds_2018,SPECIES_GROUP,0,8000;ORDER1 \"ORDER1\" true true false 8000 Text 0 0,First,#,songbirds_2018,ORDER1,0,8000;FAMILY \"FAMILY\" true true false 8000 Text 0 0,First,#,songbirds_2018,FAMILY,0,8000', \n",
    "                                None)"
   ]
  },
  {
   "cell_type": "code",
   "execution_count": 16,
   "metadata": {},
   "outputs": [
    {
     "data": {
      "text/html": [
       "<div class='gpresult'><h2>Messages</h2><div id='messages' data-messages='[\"Start Time: Sunday, December 3, 2023 12:15:56 PM\",\"Succeeded at Sunday, December 3, 2023 12:15:58 PM (Elapsed Time: 2.73 seconds)\"]' data-show='true'><div id = 'default' /></div></div>"
      ],
      "text/plain": [
       "<Result '\\\\\\\\Mac\\\\Home\\\\Documents\\\\Bird Project\\\\birds_2018\\\\birds_2018.gdb\\\\thrushes_2018'>"
      ]
     },
     "execution_count": 16,
     "metadata": {},
     "output_type": "execute_result"
    }
   ],
   "source": [
    "arcpy.conversion.ExportFeatures(\"songbirds_2018\", \n",
    "                                r\"\\\\Mac\\Home\\Documents\\Bird Project\\birds_2018\\birds_2018.gdb\\thrushes_2018\", \n",
    "                                \"SPECIES_GROUP = 'Thrushes'\", \n",
    "                                \"NOT_USE_ALIAS\", \n",
    "                                'Field1 \"Field1\" true true false 4 Long 0 0,First,#,songbirds_2018,Field1,-1,-1;TAXONOMIC_ORDER \"TAXONOMIC ORDER\" true true false 4 Long 0 0,First,#,songbirds_2018,TAXONOMIC_ORDER,-1,-1;COMMON_NAME \"COMMON NAME\" true true false 8000 Text 0 0,First,#,songbirds_2018,COMMON_NAME,0,8000;SCIENTIFIC_NAME \"SCIENTIFIC NAME\" true true false 8000 Text 0 0,First,#,songbirds_2018,SCIENTIFIC_NAME,0,8000;OBSERVATION_COUNT \"OBSERVATION COUNT\" true true false 8000 Text 0 0,First,#,songbirds_2018,OBSERVATION_COUNT,0,8000;LOCALITY \"LOCALITY\" true true false 8000 Text 0 0,First,#,songbirds_2018,LOCALITY,0,8000;LATITUDE \"LATITUDE\" true true false 8 Double 0 0,First,#,songbirds_2018,LATITUDE,-1,-1;LONGITUDE \"LONGITUDE\" true true false 8 Double 0 0,First,#,songbirds_2018,LONGITUDE,-1,-1;TIME_OBSERVATIONS_STARTED \"TIME OBSERVATIONS STARTED\" true true false 8000 Text 0 0,First,#,songbirds_2018,TIME_OBSERVATIONS_STARTED,0,8000;ALL_SPECIES_REPORTED \"ALL SPECIES REPORTED\" true true false 4 Long 0 0,First,#,songbirds_2018,ALL_SPECIES_REPORTED,-1,-1;TRIP_COMMENTS \"TRIP COMMENTS\" true true false 8000 Text 0 0,First,#,songbirds_2018,TRIP_COMMENTS,0,8000;SPECIES_COMMENTS \"SPECIES COMMENTS\" true true false 8000 Text 0 0,First,#,songbirds_2018,SPECIES_COMMENTS,0,8000;SPECIES_GROUP \"SPECIES_GROUP\" true true false 8000 Text 0 0,First,#,songbirds_2018,SPECIES_GROUP,0,8000;ORDER1 \"ORDER1\" true true false 8000 Text 0 0,First,#,songbirds_2018,ORDER1,0,8000;FAMILY \"FAMILY\" true true false 8000 Text 0 0,First,#,songbirds_2018,FAMILY,0,8000', \n",
    "                                None)"
   ]
  },
  {
   "cell_type": "code",
   "execution_count": 17,
   "metadata": {},
   "outputs": [
    {
     "data": {
      "text/html": [
       "<div class='gpresult'><h2>Messages</h2><div id='messages' data-messages='[\"Start Time: Sunday, December 3, 2023 12:16:46 PM\",\"Succeeded at Sunday, December 3, 2023 12:16:48 PM (Elapsed Time: 1.40 seconds)\"]' data-show='true'><div id = 'default' /></div></div>"
      ],
      "text/plain": [
       "<Result '\\\\\\\\Mac\\\\Home\\\\Documents\\\\Bird Project\\\\birds_2018\\\\birds_2018.gdb\\\\tits_chickadees_titmice_2018'>"
      ]
     },
     "execution_count": 17,
     "metadata": {},
     "output_type": "execute_result"
    }
   ],
   "source": [
    "arcpy.conversion.ExportFeatures(\"songbirds_2018\", \n",
    "                                r\"\\\\Mac\\Home\\Documents\\Bird Project\\birds_2018\\birds_2018.gdb\\tits_chickadees_titmice_2018\", \n",
    "                                \"SPECIES_GROUP = 'Tits, Chickadees, and Titmice'\", \n",
    "                                \"NOT_USE_ALIAS\", \n",
    "                                'Field1 \"Field1\" true true false 4 Long 0 0,First,#,songbirds_2018,Field1,-1,-1;TAXONOMIC_ORDER \"TAXONOMIC ORDER\" true true false 4 Long 0 0,First,#,songbirds_2018,TAXONOMIC_ORDER,-1,-1;COMMON_NAME \"COMMON NAME\" true true false 8000 Text 0 0,First,#,songbirds_2018,COMMON_NAME,0,8000;SCIENTIFIC_NAME \"SCIENTIFIC NAME\" true true false 8000 Text 0 0,First,#,songbirds_2018,SCIENTIFIC_NAME,0,8000;OBSERVATION_COUNT \"OBSERVATION COUNT\" true true false 8000 Text 0 0,First,#,songbirds_2018,OBSERVATION_COUNT,0,8000;LOCALITY \"LOCALITY\" true true false 8000 Text 0 0,First,#,songbirds_2018,LOCALITY,0,8000;LATITUDE \"LATITUDE\" true true false 8 Double 0 0,First,#,songbirds_2018,LATITUDE,-1,-1;LONGITUDE \"LONGITUDE\" true true false 8 Double 0 0,First,#,songbirds_2018,LONGITUDE,-1,-1;TIME_OBSERVATIONS_STARTED \"TIME OBSERVATIONS STARTED\" true true false 8000 Text 0 0,First,#,songbirds_2018,TIME_OBSERVATIONS_STARTED,0,8000;ALL_SPECIES_REPORTED \"ALL SPECIES REPORTED\" true true false 4 Long 0 0,First,#,songbirds_2018,ALL_SPECIES_REPORTED,-1,-1;TRIP_COMMENTS \"TRIP COMMENTS\" true true false 8000 Text 0 0,First,#,songbirds_2018,TRIP_COMMENTS,0,8000;SPECIES_COMMENTS \"SPECIES COMMENTS\" true true false 8000 Text 0 0,First,#,songbirds_2018,SPECIES_COMMENTS,0,8000;SPECIES_GROUP \"SPECIES_GROUP\" true true false 8000 Text 0 0,First,#,songbirds_2018,SPECIES_GROUP,0,8000;ORDER1 \"ORDER1\" true true false 8000 Text 0 0,First,#,songbirds_2018,ORDER1,0,8000;FAMILY \"FAMILY\" true true false 8000 Text 0 0,First,#,songbirds_2018,FAMILY,0,8000', \n",
    "                                None)"
   ]
  },
  {
   "cell_type": "code",
   "execution_count": 18,
   "metadata": {},
   "outputs": [
    {
     "data": {
      "text/html": [
       "<div class='gpresult'><h2>Messages</h2><div id='messages' data-messages='[\"Start Time: Sunday, December 3, 2023 12:17:29 PM\",\"Succeeded at Sunday, December 3, 2023 12:17:30 PM (Elapsed Time: 1.14 seconds)\"]' data-show='true'><div id = 'default' /></div></div>"
      ],
      "text/plain": [
       "<Result '\\\\\\\\Mac\\\\Home\\\\Documents\\\\Bird Project\\\\birds_2018\\\\birds_2018.gdb\\\\treecreepers_2018'>"
      ]
     },
     "execution_count": 18,
     "metadata": {},
     "output_type": "execute_result"
    }
   ],
   "source": [
    "arcpy.conversion.ExportFeatures(\"songbirds_2018\", \n",
    "                                r\"\\\\Mac\\Home\\Documents\\Bird Project\\birds_2018\\birds_2018.gdb\\treecreepers_2018\", \n",
    "                                \"SPECIES_GROUP = 'Treecreepers'\", \n",
    "                                \"NOT_USE_ALIAS\", \n",
    "                                'Field1 \"Field1\" true true false 4 Long 0 0,First,#,songbirds_2018,Field1,-1,-1;TAXONOMIC_ORDER \"TAXONOMIC ORDER\" true true false 4 Long 0 0,First,#,songbirds_2018,TAXONOMIC_ORDER,-1,-1;COMMON_NAME \"COMMON NAME\" true true false 8000 Text 0 0,First,#,songbirds_2018,COMMON_NAME,0,8000;SCIENTIFIC_NAME \"SCIENTIFIC NAME\" true true false 8000 Text 0 0,First,#,songbirds_2018,SCIENTIFIC_NAME,0,8000;OBSERVATION_COUNT \"OBSERVATION COUNT\" true true false 8000 Text 0 0,First,#,songbirds_2018,OBSERVATION_COUNT,0,8000;LOCALITY \"LOCALITY\" true true false 8000 Text 0 0,First,#,songbirds_2018,LOCALITY,0,8000;LATITUDE \"LATITUDE\" true true false 8 Double 0 0,First,#,songbirds_2018,LATITUDE,-1,-1;LONGITUDE \"LONGITUDE\" true true false 8 Double 0 0,First,#,songbirds_2018,LONGITUDE,-1,-1;TIME_OBSERVATIONS_STARTED \"TIME OBSERVATIONS STARTED\" true true false 8000 Text 0 0,First,#,songbirds_2018,TIME_OBSERVATIONS_STARTED,0,8000;ALL_SPECIES_REPORTED \"ALL SPECIES REPORTED\" true true false 4 Long 0 0,First,#,songbirds_2018,ALL_SPECIES_REPORTED,-1,-1;TRIP_COMMENTS \"TRIP COMMENTS\" true true false 8000 Text 0 0,First,#,songbirds_2018,TRIP_COMMENTS,0,8000;SPECIES_COMMENTS \"SPECIES COMMENTS\" true true false 8000 Text 0 0,First,#,songbirds_2018,SPECIES_COMMENTS,0,8000;SPECIES_GROUP \"SPECIES_GROUP\" true true false 8000 Text 0 0,First,#,songbirds_2018,SPECIES_GROUP,0,8000;ORDER1 \"ORDER1\" true true false 8000 Text 0 0,First,#,songbirds_2018,ORDER1,0,8000;FAMILY \"FAMILY\" true true false 8000 Text 0 0,First,#,songbirds_2018,FAMILY,0,8000', \n",
    "                                None)"
   ]
  },
  {
   "cell_type": "code",
   "execution_count": 19,
   "metadata": {},
   "outputs": [
    {
     "data": {
      "text/html": [
       "<div class='gpresult'><h2>Messages</h2><div id='messages' data-messages='[\"Start Time: Sunday, December 3, 2023 12:18:41 PM\",\"Succeeded at Sunday, December 3, 2023 12:18:42 PM (Elapsed Time: 1.60 seconds)\"]' data-show='true'><div id = 'default' /></div></div>"
      ],
      "text/plain": [
       "<Result '\\\\\\\\Mac\\\\Home\\\\Documents\\\\Bird Project\\\\birds_2018\\\\birds_2018.gdb\\\\tyrant_flycatchers_2018'>"
      ]
     },
     "execution_count": 19,
     "metadata": {},
     "output_type": "execute_result"
    }
   ],
   "source": [
    "arcpy.conversion.ExportFeatures(\"songbirds_2018\", \n",
    "                                r\"\\\\Mac\\Home\\Documents\\Bird Project\\birds_2018\\birds_2018.gdb\\tyrant_flycatchers_2018\", \n",
    "                                \"SPECIES_GROUP = 'Tyrant Flycatchers: Pewees, Kingbirds, and Allies'\", \n",
    "                                \"NOT_USE_ALIAS\", \n",
    "                                'Field1 \"Field1\" true true false 4 Long 0 0,First,#,songbirds_2018,Field1,-1,-1;TAXONOMIC_ORDER \"TAXONOMIC ORDER\" true true false 4 Long 0 0,First,#,songbirds_2018,TAXONOMIC_ORDER,-1,-1;COMMON_NAME \"COMMON NAME\" true true false 8000 Text 0 0,First,#,songbirds_2018,COMMON_NAME,0,8000;SCIENTIFIC_NAME \"SCIENTIFIC NAME\" true true false 8000 Text 0 0,First,#,songbirds_2018,SCIENTIFIC_NAME,0,8000;OBSERVATION_COUNT \"OBSERVATION COUNT\" true true false 8000 Text 0 0,First,#,songbirds_2018,OBSERVATION_COUNT,0,8000;LOCALITY \"LOCALITY\" true true false 8000 Text 0 0,First,#,songbirds_2018,LOCALITY,0,8000;LATITUDE \"LATITUDE\" true true false 8 Double 0 0,First,#,songbirds_2018,LATITUDE,-1,-1;LONGITUDE \"LONGITUDE\" true true false 8 Double 0 0,First,#,songbirds_2018,LONGITUDE,-1,-1;TIME_OBSERVATIONS_STARTED \"TIME OBSERVATIONS STARTED\" true true false 8000 Text 0 0,First,#,songbirds_2018,TIME_OBSERVATIONS_STARTED,0,8000;ALL_SPECIES_REPORTED \"ALL SPECIES REPORTED\" true true false 4 Long 0 0,First,#,songbirds_2018,ALL_SPECIES_REPORTED,-1,-1;TRIP_COMMENTS \"TRIP COMMENTS\" true true false 8000 Text 0 0,First,#,songbirds_2018,TRIP_COMMENTS,0,8000;SPECIES_COMMENTS \"SPECIES COMMENTS\" true true false 8000 Text 0 0,First,#,songbirds_2018,SPECIES_COMMENTS,0,8000;SPECIES_GROUP \"SPECIES_GROUP\" true true false 8000 Text 0 0,First,#,songbirds_2018,SPECIES_GROUP,0,8000;ORDER1 \"ORDER1\" true true false 8000 Text 0 0,First,#,songbirds_2018,ORDER1,0,8000;FAMILY \"FAMILY\" true true false 8000 Text 0 0,First,#,songbirds_2018,FAMILY,0,8000', \n",
    "                                None)"
   ]
  },
  {
   "cell_type": "code",
   "execution_count": 20,
   "metadata": {},
   "outputs": [
    {
     "data": {
      "text/html": [
       "<div class='gpresult'><h2>Messages</h2><div id='messages' data-messages='[\"Start Time: Sunday, December 3, 2023 12:19:26 PM\",\"Succeeded at Sunday, December 3, 2023 12:19:27 PM (Elapsed Time: 1.54 seconds)\"]' data-show='true'><div id = 'default' /></div></div>"
      ],
      "text/plain": [
       "<Result '\\\\\\\\Mac\\\\Home\\\\Documents\\\\Bird Project\\\\birds_2018\\\\birds_2018.gdb\\\\vireos_2018'>"
      ]
     },
     "execution_count": 20,
     "metadata": {},
     "output_type": "execute_result"
    }
   ],
   "source": [
    "arcpy.conversion.ExportFeatures(\"songbirds_2018\", \n",
    "                                r\"\\\\Mac\\Home\\Documents\\Bird Project\\birds_2018\\birds_2018.gdb\\vireos_2018\", \n",
    "                                \"SPECIES_GROUP = 'Vireos'\", \n",
    "                                \"NOT_USE_ALIAS\", \n",
    "                                'Field1 \"Field1\" true true false 4 Long 0 0,First,#,songbirds_2018,Field1,-1,-1;TAXONOMIC_ORDER \"TAXONOMIC ORDER\" true true false 4 Long 0 0,First,#,songbirds_2018,TAXONOMIC_ORDER,-1,-1;COMMON_NAME \"COMMON NAME\" true true false 8000 Text 0 0,First,#,songbirds_2018,COMMON_NAME,0,8000;SCIENTIFIC_NAME \"SCIENTIFIC NAME\" true true false 8000 Text 0 0,First,#,songbirds_2018,SCIENTIFIC_NAME,0,8000;OBSERVATION_COUNT \"OBSERVATION COUNT\" true true false 8000 Text 0 0,First,#,songbirds_2018,OBSERVATION_COUNT,0,8000;LOCALITY \"LOCALITY\" true true false 8000 Text 0 0,First,#,songbirds_2018,LOCALITY,0,8000;LATITUDE \"LATITUDE\" true true false 8 Double 0 0,First,#,songbirds_2018,LATITUDE,-1,-1;LONGITUDE \"LONGITUDE\" true true false 8 Double 0 0,First,#,songbirds_2018,LONGITUDE,-1,-1;TIME_OBSERVATIONS_STARTED \"TIME OBSERVATIONS STARTED\" true true false 8000 Text 0 0,First,#,songbirds_2018,TIME_OBSERVATIONS_STARTED,0,8000;ALL_SPECIES_REPORTED \"ALL SPECIES REPORTED\" true true false 4 Long 0 0,First,#,songbirds_2018,ALL_SPECIES_REPORTED,-1,-1;TRIP_COMMENTS \"TRIP COMMENTS\" true true false 8000 Text 0 0,First,#,songbirds_2018,TRIP_COMMENTS,0,8000;SPECIES_COMMENTS \"SPECIES COMMENTS\" true true false 8000 Text 0 0,First,#,songbirds_2018,SPECIES_COMMENTS,0,8000;SPECIES_GROUP \"SPECIES_GROUP\" true true false 8000 Text 0 0,First,#,songbirds_2018,SPECIES_GROUP,0,8000;ORDER1 \"ORDER1\" true true false 8000 Text 0 0,First,#,songbirds_2018,ORDER1,0,8000;FAMILY \"FAMILY\" true true false 8000 Text 0 0,First,#,songbirds_2018,FAMILY,0,8000', \n",
    "                                None)"
   ]
  },
  {
   "cell_type": "code",
   "execution_count": 21,
   "metadata": {},
   "outputs": [
    {
     "data": {
      "text/html": [
       "<div class='gpresult'><h2>Messages</h2><div id='messages' data-messages='[\"Start Time: Sunday, December 3, 2023 12:20:19 PM\",\"Succeeded at Sunday, December 3, 2023 12:20:21 PM (Elapsed Time: 1.37 seconds)\"]' data-show='true'><div id = 'default' /></div></div>"
      ],
      "text/plain": [
       "<Result '\\\\\\\\Mac\\\\Home\\\\Documents\\\\Bird Project\\\\birds_2018\\\\birds_2018.gdb\\\\wagtails_pipits_2018'>"
      ]
     },
     "execution_count": 21,
     "metadata": {},
     "output_type": "execute_result"
    }
   ],
   "source": [
    "arcpy.conversion.ExportFeatures(\"songbirds_2018\", \n",
    "                                r\"\\\\Mac\\Home\\Documents\\Bird Project\\birds_2018\\birds_2018.gdb\\wagtails_pipits_2018\", \n",
    "                                \"SPECIES_GROUP = 'Wagtails and Pipits'\", \n",
    "                                \"NOT_USE_ALIAS\", 'Field1 \"Field1\" true true false 4 Long 0 0,First,#,songbirds_2018,Field1,-1,-1;TAXONOMIC_ORDER \"TAXONOMIC ORDER\" true true false 4 Long 0 0,First,#,songbirds_2018,TAXONOMIC_ORDER,-1,-1;COMMON_NAME \"COMMON NAME\" true true false 8000 Text 0 0,First,#,songbirds_2018,COMMON_NAME,0,8000;SCIENTIFIC_NAME \"SCIENTIFIC NAME\" true true false 8000 Text 0 0,First,#,songbirds_2018,SCIENTIFIC_NAME,0,8000;OBSERVATION_COUNT \"OBSERVATION COUNT\" true true false 8000 Text 0 0,First,#,songbirds_2018,OBSERVATION_COUNT,0,8000;LOCALITY \"LOCALITY\" true true false 8000 Text 0 0,First,#,songbirds_2018,LOCALITY,0,8000;LATITUDE \"LATITUDE\" true true false 8 Double 0 0,First,#,songbirds_2018,LATITUDE,-1,-1;LONGITUDE \"LONGITUDE\" true true false 8 Double 0 0,First,#,songbirds_2018,LONGITUDE,-1,-1;TIME_OBSERVATIONS_STARTED \"TIME OBSERVATIONS STARTED\" true true false 8000 Text 0 0,First,#,songbirds_2018,TIME_OBSERVATIONS_STARTED,0,8000;ALL_SPECIES_REPORTED \"ALL SPECIES REPORTED\" true true false 4 Long 0 0,First,#,songbirds_2018,ALL_SPECIES_REPORTED,-1,-1;TRIP_COMMENTS \"TRIP COMMENTS\" true true false 8000 Text 0 0,First,#,songbirds_2018,TRIP_COMMENTS,0,8000;SPECIES_COMMENTS \"SPECIES COMMENTS\" true true false 8000 Text 0 0,First,#,songbirds_2018,SPECIES_COMMENTS,0,8000;SPECIES_GROUP \"SPECIES_GROUP\" true true false 8000 Text 0 0,First,#,songbirds_2018,SPECIES_GROUP,0,8000;ORDER1 \"ORDER1\" true true false 8000 Text 0 0,First,#,songbirds_2018,ORDER1,0,8000;FAMILY \"FAMILY\" true true false 8000 Text 0 0,First,#,songbirds_2018,FAMILY,0,8000', \n",
    "                                None)"
   ]
  },
  {
   "cell_type": "code",
   "execution_count": 22,
   "metadata": {},
   "outputs": [
    {
     "data": {
      "text/html": [
       "<div class='gpresult'><h2>Messages</h2><div id='messages' data-messages='[\"Start Time: Sunday, December 3, 2023 12:21:01 PM\",\"Succeeded at Sunday, December 3, 2023 12:21:02 PM (Elapsed Time: 1.45 seconds)\"]' data-show='true'><div id = 'default' /></div></div>"
      ],
      "text/plain": [
       "<Result '\\\\\\\\Mac\\\\Home\\\\Documents\\\\Bird Project\\\\birds_2018\\\\birds_2018.gdb\\\\waxwings_2018'>"
      ]
     },
     "execution_count": 22,
     "metadata": {},
     "output_type": "execute_result"
    }
   ],
   "source": [
    "arcpy.conversion.ExportFeatures(\"songbirds_2018\", \n",
    "                                r\"\\\\Mac\\Home\\Documents\\Bird Project\\birds_2018\\birds_2018.gdb\\waxwings_2018\", \n",
    "                                \"SPECIES_GROUP = 'Waxwings'\", \n",
    "                                \"NOT_USE_ALIAS\", \n",
    "                                'Field1 \"Field1\" true true false 4 Long 0 0,First,#,songbirds_2018,Field1,-1,-1;TAXONOMIC_ORDER \"TAXONOMIC ORDER\" true true false 4 Long 0 0,First,#,songbirds_2018,TAXONOMIC_ORDER,-1,-1;COMMON_NAME \"COMMON NAME\" true true false 8000 Text 0 0,First,#,songbirds_2018,COMMON_NAME,0,8000;SCIENTIFIC_NAME \"SCIENTIFIC NAME\" true true false 8000 Text 0 0,First,#,songbirds_2018,SCIENTIFIC_NAME,0,8000;OBSERVATION_COUNT \"OBSERVATION COUNT\" true true false 8000 Text 0 0,First,#,songbirds_2018,OBSERVATION_COUNT,0,8000;LOCALITY \"LOCALITY\" true true false 8000 Text 0 0,First,#,songbirds_2018,LOCALITY,0,8000;LATITUDE \"LATITUDE\" true true false 8 Double 0 0,First,#,songbirds_2018,LATITUDE,-1,-1;LONGITUDE \"LONGITUDE\" true true false 8 Double 0 0,First,#,songbirds_2018,LONGITUDE,-1,-1;TIME_OBSERVATIONS_STARTED \"TIME OBSERVATIONS STARTED\" true true false 8000 Text 0 0,First,#,songbirds_2018,TIME_OBSERVATIONS_STARTED,0,8000;ALL_SPECIES_REPORTED \"ALL SPECIES REPORTED\" true true false 4 Long 0 0,First,#,songbirds_2018,ALL_SPECIES_REPORTED,-1,-1;TRIP_COMMENTS \"TRIP COMMENTS\" true true false 8000 Text 0 0,First,#,songbirds_2018,TRIP_COMMENTS,0,8000;SPECIES_COMMENTS \"SPECIES COMMENTS\" true true false 8000 Text 0 0,First,#,songbirds_2018,SPECIES_COMMENTS,0,8000;SPECIES_GROUP \"SPECIES_GROUP\" true true false 8000 Text 0 0,First,#,songbirds_2018,SPECIES_GROUP,0,8000;ORDER1 \"ORDER1\" true true false 8000 Text 0 0,First,#,songbirds_2018,ORDER1,0,8000;FAMILY \"FAMILY\" true true false 8000 Text 0 0,First,#,songbirds_2018,FAMILY,0,8000', \n",
    "                                None)"
   ]
  },
  {
   "cell_type": "code",
   "execution_count": 23,
   "metadata": {},
   "outputs": [
    {
     "data": {
      "text/html": [
       "<div class='gpresult'><h2>Messages</h2><div id='messages' data-messages='[\"Start Time: Sunday, December 3, 2023 12:21:53 PM\",\"Succeeded at Sunday, December 3, 2023 12:21:58 PM (Elapsed Time: 4.46 seconds)\"]' data-show='true'><div id = 'default' /></div></div>"
      ],
      "text/plain": [
       "<Result '\\\\\\\\Mac\\\\Home\\\\Documents\\\\Bird Project\\\\birds_2018\\\\birds_2018.gdb\\\\wood_warblers_2018'>"
      ]
     },
     "execution_count": 23,
     "metadata": {},
     "output_type": "execute_result"
    }
   ],
   "source": [
    "arcpy.conversion.ExportFeatures(\"songbirds_2018\", \n",
    "                                r\"\\\\Mac\\Home\\Documents\\Bird Project\\birds_2018\\birds_2018.gdb\\wood_warblers_2018\", \n",
    "                                \"SPECIES_GROUP = 'Wood-Warblers'\", \n",
    "                                \"NOT_USE_ALIAS\", \n",
    "                                'Field1 \"Field1\" true true false 4 Long 0 0,First,#,songbirds_2018,Field1,-1,-1;TAXONOMIC_ORDER \"TAXONOMIC ORDER\" true true false 4 Long 0 0,First,#,songbirds_2018,TAXONOMIC_ORDER,-1,-1;COMMON_NAME \"COMMON NAME\" true true false 8000 Text 0 0,First,#,songbirds_2018,COMMON_NAME,0,8000;SCIENTIFIC_NAME \"SCIENTIFIC NAME\" true true false 8000 Text 0 0,First,#,songbirds_2018,SCIENTIFIC_NAME,0,8000;OBSERVATION_COUNT \"OBSERVATION COUNT\" true true false 8000 Text 0 0,First,#,songbirds_2018,OBSERVATION_COUNT,0,8000;LOCALITY \"LOCALITY\" true true false 8000 Text 0 0,First,#,songbirds_2018,LOCALITY,0,8000;LATITUDE \"LATITUDE\" true true false 8 Double 0 0,First,#,songbirds_2018,LATITUDE,-1,-1;LONGITUDE \"LONGITUDE\" true true false 8 Double 0 0,First,#,songbirds_2018,LONGITUDE,-1,-1;TIME_OBSERVATIONS_STARTED \"TIME OBSERVATIONS STARTED\" true true false 8000 Text 0 0,First,#,songbirds_2018,TIME_OBSERVATIONS_STARTED,0,8000;ALL_SPECIES_REPORTED \"ALL SPECIES REPORTED\" true true false 4 Long 0 0,First,#,songbirds_2018,ALL_SPECIES_REPORTED,-1,-1;TRIP_COMMENTS \"TRIP COMMENTS\" true true false 8000 Text 0 0,First,#,songbirds_2018,TRIP_COMMENTS,0,8000;SPECIES_COMMENTS \"SPECIES COMMENTS\" true true false 8000 Text 0 0,First,#,songbirds_2018,SPECIES_COMMENTS,0,8000;SPECIES_GROUP \"SPECIES_GROUP\" true true false 8000 Text 0 0,First,#,songbirds_2018,SPECIES_GROUP,0,8000;ORDER1 \"ORDER1\" true true false 8000 Text 0 0,First,#,songbirds_2018,ORDER1,0,8000;FAMILY \"FAMILY\" true true false 8000 Text 0 0,First,#,songbirds_2018,FAMILY,0,8000', \n",
    "                                None)"
   ]
  },
  {
   "cell_type": "code",
   "execution_count": 24,
   "metadata": {},
   "outputs": [
    {
     "data": {
      "text/html": [
       "<div class='gpresult'><h2>Messages</h2><div id='messages' data-messages='[\"Start Time: Sunday, December 3, 2023 12:22:42 PM\",\"Succeeded at Sunday, December 3, 2023 12:22:44 PM (Elapsed Time: 1.32 seconds)\"]' data-show='true'><div id = 'default' /></div></div>"
      ],
      "text/plain": [
       "<Result '\\\\\\\\Mac\\\\Home\\\\Documents\\\\Bird Project\\\\birds_2018\\\\birds_2018.gdb\\\\wrens_2018'>"
      ]
     },
     "execution_count": 24,
     "metadata": {},
     "output_type": "execute_result"
    }
   ],
   "source": [
    "arcpy.conversion.ExportFeatures(\"songbirds_2018\", \n",
    "                                r\"\\\\Mac\\Home\\Documents\\Bird Project\\birds_2018\\birds_2018.gdb\\wrens_2018\", \n",
    "                                \"SPECIES_GROUP = 'Wrens'\", \n",
    "                                \"NOT_USE_ALIAS\", \n",
    "                                'Field1 \"Field1\" true true false 4 Long 0 0,First,#,songbirds_2018,Field1,-1,-1;TAXONOMIC_ORDER \"TAXONOMIC ORDER\" true true false 4 Long 0 0,First,#,songbirds_2018,TAXONOMIC_ORDER,-1,-1;COMMON_NAME \"COMMON NAME\" true true false 8000 Text 0 0,First,#,songbirds_2018,COMMON_NAME,0,8000;SCIENTIFIC_NAME \"SCIENTIFIC NAME\" true true false 8000 Text 0 0,First,#,songbirds_2018,SCIENTIFIC_NAME,0,8000;OBSERVATION_COUNT \"OBSERVATION COUNT\" true true false 8000 Text 0 0,First,#,songbirds_2018,OBSERVATION_COUNT,0,8000;LOCALITY \"LOCALITY\" true true false 8000 Text 0 0,First,#,songbirds_2018,LOCALITY,0,8000;LATITUDE \"LATITUDE\" true true false 8 Double 0 0,First,#,songbirds_2018,LATITUDE,-1,-1;LONGITUDE \"LONGITUDE\" true true false 8 Double 0 0,First,#,songbirds_2018,LONGITUDE,-1,-1;TIME_OBSERVATIONS_STARTED \"TIME OBSERVATIONS STARTED\" true true false 8000 Text 0 0,First,#,songbirds_2018,TIME_OBSERVATIONS_STARTED,0,8000;ALL_SPECIES_REPORTED \"ALL SPECIES REPORTED\" true true false 4 Long 0 0,First,#,songbirds_2018,ALL_SPECIES_REPORTED,-1,-1;TRIP_COMMENTS \"TRIP COMMENTS\" true true false 8000 Text 0 0,First,#,songbirds_2018,TRIP_COMMENTS,0,8000;SPECIES_COMMENTS \"SPECIES COMMENTS\" true true false 8000 Text 0 0,First,#,songbirds_2018,SPECIES_COMMENTS,0,8000;SPECIES_GROUP \"SPECIES_GROUP\" true true false 8000 Text 0 0,First,#,songbirds_2018,SPECIES_GROUP,0,8000;ORDER1 \"ORDER1\" true true false 8000 Text 0 0,First,#,songbirds_2018,ORDER1,0,8000;FAMILY \"FAMILY\" true true false 8000 Text 0 0,First,#,songbirds_2018,FAMILY,0,8000', \n",
    "                                None)"
   ]
  },
  {
   "cell_type": "code",
   "execution_count": 25,
   "metadata": {},
   "outputs": [
    {
     "data": {
      "text/html": [
       "<div class='gpresult'><h2>Messages</h2><div id='messages' data-messages='[\"Start Time: Sunday, December 3, 2023 12:23:24 PM\",\"Succeeded at Sunday, December 3, 2023 12:23:25 PM (Elapsed Time: 1.19 seconds)\"]' data-show='true'><div id = 'default' /></div></div>"
      ],
      "text/plain": [
       "<Result '\\\\\\\\Mac\\\\Home\\\\Documents\\\\Bird Project\\\\birds_2018\\\\birds_2018.gdb\\\\others_2018'>"
      ]
     },
     "execution_count": 25,
     "metadata": {},
     "output_type": "execute_result"
    }
   ],
   "source": [
    "arcpy.conversion.ExportFeatures(\"songbirds_2018\", \n",
    "                                r\"\\\\Mac\\Home\\Documents\\Bird Project\\birds_2018\\birds_2018.gdb\\others_2018\", \n",
    "                                \"SPECIES_GROUP = 'Others'\", \n",
    "                                \"NOT_USE_ALIAS\", \n",
    "                                'Field1 \"Field1\" true true false 4 Long 0 0,First,#,songbirds_2018,Field1,-1,-1;TAXONOMIC_ORDER \"TAXONOMIC ORDER\" true true false 4 Long 0 0,First,#,songbirds_2018,TAXONOMIC_ORDER,-1,-1;COMMON_NAME \"COMMON NAME\" true true false 8000 Text 0 0,First,#,songbirds_2018,COMMON_NAME,0,8000;SCIENTIFIC_NAME \"SCIENTIFIC NAME\" true true false 8000 Text 0 0,First,#,songbirds_2018,SCIENTIFIC_NAME,0,8000;OBSERVATION_COUNT \"OBSERVATION COUNT\" true true false 8000 Text 0 0,First,#,songbirds_2018,OBSERVATION_COUNT,0,8000;LOCALITY \"LOCALITY\" true true false 8000 Text 0 0,First,#,songbirds_2018,LOCALITY,0,8000;LATITUDE \"LATITUDE\" true true false 8 Double 0 0,First,#,songbirds_2018,LATITUDE,-1,-1;LONGITUDE \"LONGITUDE\" true true false 8 Double 0 0,First,#,songbirds_2018,LONGITUDE,-1,-1;TIME_OBSERVATIONS_STARTED \"TIME OBSERVATIONS STARTED\" true true false 8000 Text 0 0,First,#,songbirds_2018,TIME_OBSERVATIONS_STARTED,0,8000;ALL_SPECIES_REPORTED \"ALL SPECIES REPORTED\" true true false 4 Long 0 0,First,#,songbirds_2018,ALL_SPECIES_REPORTED,-1,-1;TRIP_COMMENTS \"TRIP COMMENTS\" true true false 8000 Text 0 0,First,#,songbirds_2018,TRIP_COMMENTS,0,8000;SPECIES_COMMENTS \"SPECIES COMMENTS\" true true false 8000 Text 0 0,First,#,songbirds_2018,SPECIES_COMMENTS,0,8000;SPECIES_GROUP \"SPECIES_GROUP\" true true false 8000 Text 0 0,First,#,songbirds_2018,SPECIES_GROUP,0,8000;ORDER1 \"ORDER1\" true true false 8000 Text 0 0,First,#,songbirds_2018,ORDER1,0,8000;FAMILY \"FAMILY\" true true false 8000 Text 0 0,First,#,songbirds_2018,FAMILY,0,8000', \n",
    "                                None)"
   ]
  },
  {
   "attachments": {},
   "cell_type": "markdown",
   "metadata": {},
   "source": [
    "### Publish map as a web layer"
   ]
  },
  {
   "attachments": {},
   "cell_type": "markdown",
   "metadata": {},
   "source": []
  }
 ],
 "metadata": {
  "kernelspec": {
   "display_name": "ArcGISPro",
   "language": "Python",
   "name": "python3"
  },
  "language_info": {
   "file_extension": ".py",
   "name": "python",
   "version": "3"
  }
 },
 "nbformat": 4,
 "nbformat_minor": 2
}
